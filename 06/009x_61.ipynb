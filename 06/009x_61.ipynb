{
 "cells": [
  {
   "cell_type": "markdown",
   "metadata": {
    "slideshow": {
     "slide_type": "slide"
    }
   },
   "source": [
    "# Stochastic Processes: <br>Data Analysis and Computer Simulation\n",
    "<br>\n",
    "\n",
    "\n",
    "# Stochastic processes in the real world\n",
    "<br>\n",
    "\n",
    "\n",
    "# 1. Time variations and distributions of real world processes\n",
    "<br>"
   ]
  },
  {
   "cell_type": "markdown",
   "metadata": {
    "cell_style": "center",
    "slideshow": {
     "slide_type": "slide"
    }
   },
   "source": [
    "# 1.1. Test score distribution\n",
    "\n",
    "## TOEIC Listening & Reading Test\n",
    "- TOEIC (Test of English for International Communication) is the most popular test for English communication skills in Japan. Below we show the official data from the most recent test. <pre>\n",
    "\n",
    "|Test date|Jan. 2017|\n",
    "|------|------|\n",
    "|Number of examinees|134,269|\n",
    "|Maximum Score|990|\n",
    "|Minimum Score|5|\n",
    "|Mean Score|574.3|\n",
    "|Standard Deviation|175.4|\n",
    "\n",
    "|score interval|count||score interval|count||score interval|count|\n",
    "|------|------|------|------|------|------|------|------|\n",
    "|895-990|4,697||595-644|12,934||295-344|6,675|\t\n",
    "|845-894|5,215||545-594|13,371||245-294|3,951|\n",
    "|795-844|7,151||495-544|13,742||195-244|1,899|\t\n",
    "|745-794|8,790||445-494|12,802||145-194|376|\n",
    "|695-744|10,056||395-444|11,444||95-144|30|\n",
    "|645-694|11,762||345-394|9,340||45-94|18|\n",
    "|||||||0-44|16|\t\n",
    "</pre>"
   ]
  },
  {
   "cell_type": "code",
   "execution_count": null,
   "metadata": {
    "ExecuteTime": {
     "end_time": "2017-03-14T15:29:28.336007",
     "start_time": "2017-03-14T15:29:28.330663"
    },
    "slideshow": {
     "slide_type": "slide"
    }
   },
   "outputs": [],
   "source": [
    "%matplotlib inline\n",
    "import numpy as np  # import numpy library as np\n",
    "import math         # use mathematical functions defined by the C standard\n",
    "import matplotlib.pyplot as plt # import pyplot library as plt\n",
    "plt.style.use('ggplot') # use \"ggplot\" style for graphs\n",
    "pltparams = {'legend.fontsize': 16, 'axes.labelsize': 20, 'axes.titlesize': 20,\n",
    "             'xtick.labelsize': 12, 'ytick.labelsize':12, 'figure.figsize': (7.5, 7.5),}\n",
    "plt.rcParams.update(pltparams)"
   ]
  },
  {
   "cell_type": "code",
   "execution_count": null,
   "metadata": {
    "ExecuteTime": {
     "end_time": "2017-03-14T15:23:51.528576",
     "start_time": "2017-03-14T15:23:51.216776"
    },
    "code_folding": [],
    "slideshow": {
     "slide_type": "slide"
    }
   },
   "outputs": [],
   "source": [
    "data=np.array([[895,990,4697],[845,894,5215],[795,844,7151],\n",
    "               [745,794,8790],[695,744,10056],[645,694,11762],[595,644,12934],\n",
    "               [545,594,13371],[495,544,13742],[445,494,12802],[395,444,11444],\n",
    "               [345,394,9340],[295,344,6675],[245,294,3951],[195,244,1899],\n",
    "               [145,194,376],[95,144,30],[45,94,18],[0,44,16],])\n",
    "tot = 134269 # set total number of examinees\n",
    "ave = 574.3  # set average\n",
    "std = 175.4  # set standard deviation\n",
    "x = np.arange(0,990,1) # create array of x from 0 to 1 with increment 0.01\n",
    "y = np.exp(-(x-ave)**2/(2*std**2))/np.sqrt(2*np.pi*std**2) # create array of y as y=1\n",
    "fig, ax = plt.subplots(subplot_kw={'xlabel':r'$\\mathrm{score}$', 'ylabel':r'$P(\\mathrm{score})$'})\n",
    "ax.bar((data[:,0]+data[:,1])/2,data[:,2]/tot/(data[:,1]-data[:,0]),width=40,align='center',label=r'TOEIC test',color='b')\n",
    "ax.plot(x,y,linewidth=4,color='r',label=r'Gaussian') # plot y vs. x with red line\n",
    "ax.set_xlim(0,1000)    # set x-range\n",
    "ax.legend(loc=2)       # set legends\n",
    "plt.show()             # display plots"
   ]
  },
  {
   "cell_type": "markdown",
   "metadata": {
    "slideshow": {
     "slide_type": "slide"
    }
   },
   "source": [
    "# 1.2. Size distribution of earthquake magnitudes\n",
    "## Gutenberg–Richter law\n",
    "\n",
    "- B. Gutenberg and C.F. Richter, Annali di Geofisica, 9, 1–15 (1956).\n",
    "- Eq.(J1) expresses the relationship between the magnitude $M$ and the total number of earthquakes, in any given region and time period, of magnitude greater than or equal to $M$.\n",
    "\n",
    "$$\n",
    "N=10^{(a-bM)}\\tag{J1}\n",
    "$$\n",
    "\n",
    "- $N$ is the number of events having a magnitude $\\ge M$\n",
    "- $a$ is a normalization constant\n",
    "- $b$ is a parameter referred to as the \"b-value\" which is usually close to 1, with some regional variations depending on the local subsurface structures."
   ]
  },
  {
   "cell_type": "markdown",
   "metadata": {
    "slideshow": {
     "slide_type": "slide"
    }
   },
   "source": [
    "### Japan\n",
    "- F. Hirose and K. Maeda, Earth Planets Space, 63, 239–260 (2011).\n",
    "\n",
    "![](fig/Japan.png) "
   ]
  },
  {
   "cell_type": "markdown",
   "metadata": {
    "slideshow": {
     "slide_type": "slide"
    }
   },
   "source": [
    "###  California\n",
    "- K. Hutton, J. Woessner, and E. Hauksson, Bull. Seismological Soc. America, 100, 423–446 (2010)\n",
    "![](fig/California.png) "
   ]
  },
  {
   "cell_type": "markdown",
   "metadata": {
    "cell_style": "center",
    "slideshow": {
     "slide_type": "slide"
    }
   },
   "source": [
    "# 1.3. Return distribution of stock prices\n",
    "\n",
    "## Logarithmic change in price\n",
    "- Consider the time series data for some stock price or market index $P(t)$. \n",
    "\n",
    "- The relevant quantity is not the abolute value of the stock at any given time, but the return: the change in price after some time $\\tau$. \n",
    "\n",
    "- For convenience one usually considers the logarithmic change $G_{\\tau}(t)$, defined as\n",
    "\n",
    "$$\n",
    "  G_\\tau(t) \\equiv \\log{P(t+\\tau)} - \\log{P(t)} \\tag{J2}\n",
    "$$\n",
    "\n",
    "- For small relative changes $\\Delta_\\tau P= P(t+\\tau) - P(t) \\ll P(t)$, this is equivalent to the relative change in price\n",
    "$$\n",
    "    G_\\tau(t) = \\ln{\\left[\\frac{P(t+\\tau)}{P(t)}\\right]} = \\ln{\\left[\\frac{P(t) + \\Delta_\\tau P(t)}{P(t)}\\right]} = \\ln{\\left[1 + \\frac{\\Delta_\\tau P(t)}{P(t)}\\right]}\n",
    "$$\n",
    "using the Taylor expansion $\\ln{\\left( 1 + x\\right)} = x - \\frac{x^2}{2} + \\cdots(\\mathrm{for}\\, \\lvert x\\rvert < 1)$, we have\n",
    "$$\n",
    "    G_\\tau(t) \\simeq \\frac{\\Delta_\\tau P(t)}{P(t)} = \\frac{P(t+\\tau) - P(t)}{P(t)}, \\qquad\n",
    "$$"
   ]
  },
  {
   "cell_type": "code",
   "execution_count": null,
   "metadata": {
    "ExecuteTime": {
     "end_time": "2017-03-14T15:42:18.563867",
     "start_time": "2017-03-14T15:42:18.188510"
    },
    "slideshow": {
     "slide_type": "slide"
    }
   },
   "outputs": [],
   "source": [
    "## You may install pandas-datareader by typing the following command in command prompt\n",
    "## conda install pandas-datareader\n",
    "import pandas as pd # import pandas library as pd\n",
    "from datetime import datetime\n",
    "#from pandas_datareader import data as pdr\n",
    "#import pandas_datareader.data as pdr\n",
    "import pandas_datareader as pdr\n",
    "from pandas_datareader import wb   as pwb"
   ]
  },
  {
   "cell_type": "code",
   "execution_count": null,
   "metadata": {
    "ExecuteTime": {
     "end_time": "2017-03-14T15:42:19.578317",
     "start_time": "2017-03-14T15:42:19.572014"
    },
    "slideshow": {
     "slide_type": "slide"
    }
   },
   "outputs": [],
   "source": [
    "# Logarithmic return of price time series\n",
    "def logreturn(Pt,tau=1):\n",
    "    return np.log(Pt[tau:]) - np.log(Pt[0:-tau]) # Eq.(J2) : G_tau(t) = log(S(t+tau)) - log(S(t)) \n",
    "# normalize data to have unit variance (<(x - <x>)^2> = 1)\n",
    "def normalized(data):\n",
    "    return (data/np.sqrt(np.var(data)))\n",
    "# compute normalized probability distribution function\n",
    "def pdf(data,bins=50):\n",
    "    hist, edges = np.histogram(data[~np.isnan(data)], bins=bins, density=True) # remove NaNs and compute histogram (returns bar heights and bar edges)\n",
    "    edges   = (edges[:-1] + edges[1:])/2.0 # get bar centers\n",
    "    nonzero = hist > 0.0                   # only keep non-zero points \n",
    "    return edges[nonzero], hist[nonzero]"
   ]
  },
  {
   "cell_type": "code",
   "execution_count": null,
   "metadata": {
    "ExecuteTime": {
     "end_time": "2017-03-14T15:57:56.697130",
     "start_time": "2017-03-14T15:57:52.924904"
    },
    "slideshow": {
     "slide_type": "slide"
    }
   },
   "outputs": [],
   "source": [
    "# define time interval\n",
    "end_time   = datetime.now()\n",
    "start_time = datetime(end_time.year - 30, end_time.month, end_time.day)\n",
    "# get pandas data for Japanese and American stocks\n",
    "toyota     = pdr.stooq.StooqDailyReader('7203.jp',start_time,end_time).read().sort_values(by='Date',ascending=True)\n",
    "mitsui     = pdr.stooq.StooqDailyReader('8031.jp',start_time,end_time).read().sort_values(by='Date',ascending=True)\n",
    "mitsubishi = pdr.stooq.StooqDailyReader('8058.jp',start_time,end_time).read().sort_values(by='Date',ascending=True)\n",
    "#toyota     = pdr.DataReader('7203','yahoo',start_time,end_time)\n",
    "#mitsui     = pdr.DataReader('8031','yahoo',start_time,end_time)\n",
    "#mitsubishi = pdr.DataReader('8058','yahoo',start_time,end_time)\n",
    "apple      = pdr.DataReader('AAPL','yahoo',start_time,end_time) \n",
    "msft       = pdr.DataReader('MSFT','yahoo',start_time,end_time)\n",
    "hpq        = pdr.DataReader('HPQ', 'yahoo',start_time,end_time)\n",
    "nikkei     = pdr.DataReader('^N225','yahoo',start_time,end_time)\n",
    "sp500      = pdr.DataReader('^GSPC','yahoo',start_time,end_time)\n",
    "toyota.tail()"
   ]
  },
  {
   "cell_type": "code",
   "execution_count": null,
   "metadata": {
    "ExecuteTime": {
     "end_time": "2017-03-14T16:33:28.252691",
     "start_time": "2017-03-14T16:33:27.302975"
    },
    "slideshow": {
     "slide_type": "slide"
    }
   },
   "outputs": [],
   "source": [
    "fig,[ax,bx]=plt.subplots(figsize=(15,7.5),nrows=2,sharex=True,subplot_kw={'xlabel':r'Date','ylabel':r'Price'})\n",
    "for stock,lbl in zip([toyota,mitsui,mitsubishi],['Toyota','Mitsui Bussan','Mitsubishi Shoji']):\n",
    "    date, price = pd.to_datetime(stock.index), stock['Close']\n",
    "    ax.plot(date, price, label=lbl)\n",
    "for stock,lbl in zip([apple,msft,hpq],['Apple','Microsoft','Hewlett-Packard']):\n",
    "    date, price = pd.to_datetime(stock.index), stock['Close']\n",
    "    bx.plot(date, price, label=lbl)\n",
    "ax.legend()    \n",
    "bx.legend()\n",
    "plt.show()"
   ]
  },
  {
   "cell_type": "code",
   "execution_count": null,
   "metadata": {
    "ExecuteTime": {
     "end_time": "2017-03-14T15:58:07.817625",
     "start_time": "2017-03-14T15:58:07.437983"
    },
    "slideshow": {
     "slide_type": "slide"
    }
   },
   "outputs": [],
   "source": [
    "# add logarithmic return data to pandas DataFrame data using the 'Adjusted Close' stock price for each day\n",
    "def computeReturn(data, name, tau):\n",
    "    data[name]=pd.Series(normalized(logreturn(data['Close'].values, tau)),index=data.index[:-tau])\n",
    "for stock in [toyota,mitsui,mitsubishi,nikkei,apple,msft,hpq,sp500]:\n",
    "    computeReturn(stock,'Return d1',1)\n",
    "toyota.tail()"
   ]
  },
  {
   "cell_type": "code",
   "execution_count": null,
   "metadata": {
    "ExecuteTime": {
     "end_time": "2017-03-14T17:41:36.661281",
     "start_time": "2017-03-14T17:41:35.713481"
    },
    "slideshow": {
     "slide_type": "slide"
    }
   },
   "outputs": [],
   "source": [
    "fig, [ax,bx] = plt.subplots(figsize=(15.0, 7.5),ncols=2)\n",
    "for data,lbl in zip([toyota,mitsui,mitsubishi],['Toyota','Mitsui','Mitsubishi']):\n",
    "    date, retd1 = pd.to_datetime(data.index), data['Return d1']\n",
    "    ax.plot(date, retd1, alpha=0.8)\n",
    "    data['Return d1'].hist(ax=bx,alpha=0.6,density=True,bins=40,lw=0,label=lbl)\n",
    "x = np.linspace(-5,5)\n",
    "bx.plot(x,np.exp(-x**2/2)/np.sqrt(2*np.pi),lw=4,alpha=0.8,label='Gaussian')\n",
    "bx.legend()\n",
    "ax.set_ylabel('Normalized price return $G_1(t)$')\n",
    "bx.set_xlabel('Normalized price return $G_1(t)$')\n",
    "bx.set_ylabel('Probability Distribution')\n",
    "bx.set_xlim([-5,5])\n",
    "bx.set_ylim([0,0.8])\n",
    "plt.show()"
   ]
  },
  {
   "cell_type": "code",
   "execution_count": null,
   "metadata": {
    "ExecuteTime": {
     "end_time": "2017-03-14T17:41:23.002004",
     "start_time": "2017-03-14T17:41:22.077788"
    },
    "slideshow": {
     "slide_type": "slide"
    }
   },
   "outputs": [],
   "source": [
    "fig,[ax,bx]=plt.subplots(figsize=(15.0,7.5),ncols=2)\n",
    "for data,lbl in zip([apple,msft,hpq],['Apple','Microsoft','Hewlett-Packard']):\n",
    "    date, retd1 = pd.to_datetime(data.index), data['Return d1']\n",
    "    ax.plot(date, retd1, alpha=0.8)\n",
    "    data['Return d1'].hist(ax=bx,alpha=0.6,density=True,bins=40,lw=0,label=lbl)\n",
    "x = np.linspace(-5,5)\n",
    "bx.plot(x,np.exp(-x**2/2)/np.sqrt(2*np.pi),lw=4,alpha=0.8,label='Gaussian')\n",
    "bx.legend()\n",
    "ax.set_xlabel('Date')\n",
    "ax.set_ylabel('Normalized price return $G_1(t)$')\n",
    "bx.set_xlabel('Normalized price return $G_1(t)$')\n",
    "bx.set_ylabel('Probability distribution')\n",
    "bx.set_xlim([-5,5])\n",
    "bx.set_ylim([0,0.8])\n",
    "plt.show()"
   ]
  },
  {
   "cell_type": "code",
   "execution_count": null,
   "metadata": {
    "ExecuteTime": {
     "end_time": "2017-03-14T17:43:31.089494",
     "start_time": "2017-03-14T17:43:30.368683"
    },
    "slideshow": {
     "slide_type": "slide"
    }
   },
   "outputs": [],
   "source": [
    "fig,ax=plt.subplots(subplot_kw={'xlabel':r'Absolute normalized price return $G_1$','ylabel':r'Probability distribution'})\n",
    "# probability distribution for stocks\n",
    "for stock,lbl in zip([toyota,mitsui,mitsubishi,apple,msft,hpq], \n",
    "        ['Toyota','Mitsui','Mitsubishi','Apple','Microsoft','Hewlett-Packard']):\n",
    "    edges,hist=pdf(np.abs(stock['Return d1']),bins=30)\n",
    "    ax.plot(edges,hist,label=lbl,lw=3)\n",
    "# probability distribution for stock indices \n",
    "for stock,lbl in zip([sp500,nikkei],['S&P 500','Nikkei 225']):\n",
    "    edges,hist=pdf(np.abs(stock['Return d1']),bins=30)\n",
    "    ax.plot(edges,hist,label=lbl,lw=6,alpha=0.5)\n",
    "# power law x^-3\n",
    "x = np.logspace(-1, 1.2)\n",
    "ax.plot(x,0.4*x**(-3),lw=6,ls='--',color='k',alpha=0.8,label=r'$\\propto |x|^{-3}$')\n",
    "ax.plot(x,np.abs(np.exp(-x**2/2)/np.sqrt(2*np.pi)),lw=6,ls='--',color='gray',alpha=0.8,label=r'Gaussian')\n",
    "ax.semilogy()\n",
    "ax.semilogx()\n",
    "ax.set_ylim(1e-4, 2e0)\n",
    "ax.set_xlim(1e-1, 2e1)\n",
    "ax.legend(loc=3, fontsize=16, framealpha=0.8)\n",
    "plt.show()"
   ]
  },
  {
   "cell_type": "markdown",
   "metadata": {
    "slideshow": {
     "slide_type": "slide"
    }
   },
   "source": [
    "### Time-correlation of the S&P 500 returns \n",
    "<!--\n",
    "<img src=\"fig/correlation.png\" width=800>\n",
    "-->\n",
    "![](fig/correlation.png)\n",
    "- P. Gopikrishnan, V. Plerou, L. Amaral, M. Meyer and H. Stanley <i>Physical Revew E</i> <b>60</b>, 5305 (1999).\n",
    "- Time auto-correlation of $G_{\\Delta t}(\\tau)$ with $\\Delta t = 1\\textrm{min}$"
   ]
  },
  {
   "cell_type": "code",
   "execution_count": null,
   "metadata": {},
   "outputs": [],
   "source": []
  }
 ],
 "metadata": {
  "anaconda-cloud": {},
  "celltoolbar": "Slideshow",
  "kernelspec": {
   "display_name": "Python 3 (ipykernel)",
   "language": "python",
   "name": "python3"
  },
  "language_info": {
   "codemirror_mode": {
    "name": "ipython",
    "version": 3
   },
   "file_extension": ".py",
   "mimetype": "text/x-python",
   "name": "python",
   "nbconvert_exporter": "python",
   "pygments_lexer": "ipython3",
   "version": "3.9.13"
  },
  "latex_envs": {
   "LaTeX_envs_menu_present": true,
   "bibliofile": "biblio.bib",
   "cite_by": "apalike",
   "current_citInitial": 1,
   "eqLabelWithNumbers": true,
   "eqNumInitial": 1,
   "hotkeys": {
    "equation": "Ctrl-E",
    "itemize": "Ctrl-I"
   },
   "labels_anchors": false,
   "latex_user_defs": false,
   "report_style_numbering": false,
   "user_envs_cfg": false
  },
  "toc": {
   "colors": {
    "hover_highlight": "#DAA520",
    "running_highlight": "#FF0000",
    "selected_highlight": "#FFD700"
   },
   "moveMenuLeft": true,
   "nav_menu": {
    "height": "350px",
    "width": "252px"
   },
   "navigate_menu": true,
   "number_sections": true,
   "sideBar": true,
   "threshold": 4,
   "toc_cell": false,
   "toc_section_display": "block",
   "toc_window_display": false
  }
 },
 "nbformat": 4,
 "nbformat_minor": 2
}
