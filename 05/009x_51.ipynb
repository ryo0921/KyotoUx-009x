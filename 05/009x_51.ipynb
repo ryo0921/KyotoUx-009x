{
 "cells": [
  {
   "cell_type": "markdown",
   "metadata": {
    "slideshow": {
     "slide_type": "slide"
    }
   },
   "source": [
    "# Stochastic Processes: <br>Data Analysis and Computer Simulation\n",
    "<br>\n",
    "\n",
    "\n",
    "# Brownian motion 3: data analysis\n",
    "<br>\n",
    "\n",
    "\n",
    "# 1. Distribution and time correlation\n",
    "<br>"
   ]
  },
  {
   "cell_type": "markdown",
   "metadata": {
    "cell_style": "center",
    "slideshow": {
     "slide_type": "slide"
    }
   },
   "source": [
    "# 1.1. Generate trajectories"
   ]
  },
  {
   "cell_type": "code",
   "execution_count": null,
   "metadata": {
    "ExecuteTime": {
     "end_time": "2017-03-07T18:32:06.970453",
     "start_time": "2017-03-07T18:32:06.814466"
    },
    "code_folding": [],
    "slideshow": {
     "slide_type": "-"
    }
   },
   "outputs": [],
   "source": [
    "%matplotlib inline\n",
    "import numpy as np\n",
    "import matplotlib.pyplot as plt\n",
    "import matplotlib as mpl\n",
    "plt.style.use('ggplot')\n",
    "dim  = 3    # system dimension (x,y,z)\n",
    "nump = 1000 # number of independent Brownian particles to simulate \n",
    "nums = 1024 # number of simulation steps\n",
    "dt   = 0.05 # set time increment, \\Delta t\n",
    "zeta = 1.0  # set friction constant, \\zeta\n",
    "m    = 1.0  # set particle mass, m\n",
    "kBT  = 1.0  # set temperatute, k_B T\n",
    "std  = np.sqrt(2*kBT*zeta*dt) # calculate std for \\Delta W via Eq.(F11)\n",
    "np.random.seed(0) # initialize random number generator with a seed=0\n",
    "R = np.zeros([nump,dim]) # array to store current positions and set initial condition Eq.(F12)\n",
    "V = np.zeros([nump,dim]) # array to store current velocities and set initial condition Eq.(F12)\n",
    "W = np.zeros([nump,dim]) # array to store current random forcces\n",
    "Rs = np.zeros([nums,nump,dim]) # array to store positions at all steps\n",
    "Vs = np.zeros([nums,nump,dim]) # array to store velocities at all steps\n",
    "Ws = np.zeros([nums,nump,dim]) # array to store random forces at all steps\n",
    "time = np.zeros([nums]) # an array to store time at all steps\n",
    "for i in range(nums): # repeat the following operations from i=0 to nums-1\n",
    "    W = std*np.random.randn(nump,dim) # generate an array of random forces according to Eqs.(F10) and (F11)\n",
    "    R, V = R + V*dt, V*(1-zeta/m*dt)+W/m # update R & V via Eqs.(F5)&(F9)\n",
    "    Rs[i]=R # accumulate particle positions at each step in an array Rs\n",
    "    Vs[i]=V # accumulate particle velocitys at each step in an array Vs\n",
    "    Ws[i]=W # accumulate random forces at each step in an array Ws\n",
    "    time[i]=i*dt # store time in each step in an array time"
   ]
  },
  {
   "cell_type": "markdown",
   "metadata": {
    "slideshow": {
     "slide_type": "slide"
    }
   },
   "source": [
    "# 1.2. Analysis 1"
   ]
  },
  {
   "cell_type": "markdown",
   "metadata": {
    "slideshow": {
     "slide_type": "-"
    }
   },
   "source": [
    "## Position $R$ vs. time $t$ for all particles "
   ]
  },
  {
   "cell_type": "code",
   "execution_count": null,
   "metadata": {
    "ExecuteTime": {
     "end_time": "2017-03-07T18:32:18.144549",
     "start_time": "2017-03-07T18:32:10.650706"
    },
    "cell_style": "center",
    "slideshow": {
     "slide_type": "-"
    }
   },
   "outputs": [],
   "source": [
    "# particle positions vs time\n",
    "fig, ax = plt.subplots(figsize=(7.5,7.5))\n",
    "ax.set_xlabel(r\"$R_{\\alpha}(t)$\", fontsize=20)\n",
    "ax.set_ylabel(r\"$t$\", fontsize=20)\n",
    "ax.set_xlim(-40,40)\n",
    "ts = 10 # only draw every 10 points to make it faster\n",
    "for n in range(nump):\n",
    "    lx, = ax.plot(Rs[::ts,n,0],time[::ts],'r', alpha=0.1)\n",
    "    ly, = ax.plot(Rs[::ts,n,1],time[::ts],'b', alpha=0.1)\n",
    "    lz, = ax.plot(Rs[::ts,n,2],time[::ts],'g', alpha=0.1)\n",
    "# add plot legend for last x,y,z lines and remove alpha from legend lines\n",
    "leg = ax.legend([lx,ly,lz], [r\"$x$\",r\"$y$\",r\"$z$\"],loc=0, fontsize=16)\n",
    "for l in leg.get_lines():\n",
    "    l.set_alpha(1)\n",
    "plt.show()"
   ]
  },
  {
   "cell_type": "markdown",
   "metadata": {
    "slideshow": {
     "slide_type": "slide"
    }
   },
   "source": [
    "## Distribution of the particle position (theoretical results)\n",
    "\n",
    "- Calculate the distribution functions for $R_\\alpha$ ($\\alpha = x,y,z$) at $t=t_{\\rm end}(=$ `nums`$\\times\\Delta t$), and compare them with the following theoretical result (see the supplemental note for the derivation).\n",
    "\n",
    "$$\n",
    "P(R_{\\alpha})=\\frac{1}{\\sqrt{2\\pi\\sigma^2}}\\exp\\left[-\\frac{\\left(R_{\\alpha}-\\langle R_{\\alpha}\\rangle\\right)^2}{2\\sigma^2}\\right]\\qquad\\qquad(\\alpha=x,y,z)\n",
    "\\tag{G1}\n",
    "$$\n",
    "\n",
    "$$\n",
    "\\langle R_{\\alpha}\\rangle=0,\\ \\ \\ \\ \\ \n",
    "\\sigma^2=\\frac{2k_BTt_{\\rm end}}{\\zeta}\\tag{G2, G3}\n",
    "$$\n"
   ]
  },
  {
   "cell_type": "code",
   "execution_count": null,
   "metadata": {},
   "outputs": [],
   "source": [
    "# positional distribution of particles at the end of the simulation\n",
    "fig, ax = plt.subplots(figsize=(7.5,7.5))\n",
    "ax.set_xlabel(r\"$R_{\\alpha}}(t=t_\\mathrm{end})$\", fontsize=20)\n",
    "ax.set_ylabel(r\"$P(R_{\\alpha})$\", fontsize=20)\n",
    "# plot simulation histograms\n",
    "ax.hist(Rs[-1,:,0], bins=20,density=True,color='r',alpha=0.5,lw=0,label=r\"$x$\")\n",
    "ax.hist(Rs[-1,:,1], bins=20,density=True,color='b',alpha=0.5,lw=0,label=r\"$y$\")\n",
    "ax.hist(Rs[-1,:,2], bins=20,density=True,color='g',alpha=0.5,lw=0,label=r\"$z$\")\n",
    "# plot theoretical gaussian distribution\n",
    "sig2=2*kBT/zeta*dt*nums\n",
    "ave=0.0\n",
    "x = np.arange(-40,40,1)\n",
    "y = np.exp(-(x-ave)**2/2/sig2)/np.sqrt(2*np.pi*sig2)\n",
    "ax.plot(x,y,lw=4,color='k',label=r\"Gaussian $(\\sigma^2=2k_BT\\,t_{end}/\\zeta)$\")\n",
    "ax.legend(fontsize=14,loc=3, framealpha=0.9)\n",
    "ax.set_xlim(-40,40)\n",
    "plt.show()"
   ]
  },
  {
   "cell_type": "markdown",
   "metadata": {
    "slideshow": {
     "slide_type": "slide"
    }
   },
   "source": [
    "## Velocity $V$ vs. time $t$ for all particles"
   ]
  },
  {
   "cell_type": "code",
   "execution_count": null,
   "metadata": {
    "ExecuteTime": {
     "end_time": "2017-03-07T18:32:33.133151",
     "start_time": "2017-03-07T18:32:24.590428"
    },
    "slideshow": {
     "slide_type": "-"
    }
   },
   "outputs": [],
   "source": [
    "# particle velocities vs time\n",
    "fig, ax = plt.subplots(figsize=(7.5,7.5))\n",
    "ax.set_xlabel(r\"$V_{\\alpha}(t)$\", fontsize=20)\n",
    "ax.set_ylabel(r\"$t$\", fontsize=20)\n",
    "ts = 10 # only draw every 10 points to make it faster\n",
    "for n in range(nump):\n",
    "    lx, = ax.plot(Vs[::ts,n,0],time[::ts],'r', alpha=0.1)\n",
    "    ly, = ax.plot(Vs[::ts,n,1],time[::ts],'b', alpha=0.1)\n",
    "    lz, = ax.plot(Vs[::ts,n,2],time[::ts],'g', alpha=0.1)\n",
    "ax.set_xlim(-6, 6)\n",
    "# add plot legend for last x,y,z lines and remove alpha from legend lines\n",
    "leg = ax.legend([lx,ly,lz], [r\"$x$\",r\"$y$\",r\"$z$\"],loc=0, fontsize=16)\n",
    "for l in leg.get_lines():\n",
    "    l.set_alpha(1)\n",
    "plt.show()"
   ]
  },
  {
   "cell_type": "markdown",
   "metadata": {
    "slideshow": {
     "slide_type": "slide"
    }
   },
   "source": [
    "## Distribution of the particle velocity (c.f. Maxwell-Boltzmann distribution)\n",
    "\n",
    "- Calculate the distribution functions for $V_\\alpha$ ($\\alpha=x,y,z$) for $t_{\\rm end}/2\\le t\\le t_{\\rm end}$, and compare them with the theoretical Maxwell-Boltzmann distribution function given below\n",
    "\n",
    "$$\n",
    "P(V_{\\alpha})=\\frac{1}{\\sqrt{2\\pi\\sigma^2}}\\exp\\left[-\\frac{\\left(V_{\\alpha}-\\langle V_{\\alpha}\\rangle\\right)^2}{2\\sigma^2}\\right]\\ \\ \\ \\ \\ (\\alpha=x,y,z)\n",
    "\\tag{G4}\n",
    "$$\n",
    "\n",
    "$$\n",
    "\\langle V_{\\alpha}\\rangle=0,\\ \\ \\ \\ \\ \n",
    "\\sigma^2=\\frac{2k_BT}{m}\\tag{G5, G6}\n",
    "$$"
   ]
  },
  {
   "cell_type": "code",
   "execution_count": null,
   "metadata": {
    "ExecuteTime": {
     "end_time": "2017-03-07T18:32:37.962103",
     "start_time": "2017-03-07T18:32:35.728774"
    },
    "slideshow": {
     "slide_type": "-"
    }
   },
   "outputs": [],
   "source": [
    "# velocity distribution of particles at the end of the simulation\n",
    "fig, ax = plt.subplots(figsize=(7.5,7.5))\n",
    "# Compute histogram of velocities using the last half of the trajectory data\n",
    "# Note: flatten is required to transform the 2d array into a 1d array\n",
    "ax.hist(Vs[nums//2:,:,0].flatten(),bins=100,density=True,alpha=0.5,lw=0,color='r',label=\"x\")\n",
    "ax.hist(Vs[nums//2:,:,1].flatten(),bins=100,density=True,alpha=0.5,lw=0,color='b',label=\"y\")\n",
    "ax.hist(Vs[nums//2:,:,2].flatten(),bins=100,density=True,alpha=0.5,lw=0,color='g',label=\"z\")\n",
    "# Draw theoretical gaussian distribution\n",
    "sig2=kBT/m\n",
    "ave=0.0\n",
    "x = np.arange(-10,10,0.1)\n",
    "y = np.exp(-(x-ave)**2/2/sig2)/np.sqrt(2*np.pi*sig2)\n",
    "ax.plot(x,y,lw=4,color='k',label=r\"Maxwell-Boltzmann $(\\sigma^2=k_BT/m)$\")\n",
    "ax.set_xlabel(r\"$V_{\\alpha}$\",fontsize=20)\n",
    "ax.set_ylabel(r\"$P(V_{\\alpha})$\", fontsize=20)\n",
    "ax.set_xlim(-6, 6)\n",
    "ax.set_ylim(0, 0.5)\n",
    "ax.legend(fontsize=14, loc=3,framealpha=0.9)\n",
    "plt.show()"
   ]
  },
  {
   "cell_type": "markdown",
   "metadata": {
    "slideshow": {
     "slide_type": "slide"
    }
   },
   "source": [
    "# 1.3. Analysis 2"
   ]
  },
  {
   "cell_type": "markdown",
   "metadata": {},
   "source": [
    "## Velocity auto-correlation function\n",
    "\n",
    "- Calculate the velocity auto-correlation function, and compare it with the following theoretical result (see the derivation for Eq.(26)).\n",
    "\n",
    "$$\n",
    "\\varphi_V(t)=\\langle\\mathbf{V}(t)\\cdot \\mathbf{V}(0)\\rangle\n",
    "=\\langle V_x(t) V_x(0)\\rangle  + \\langle V_y(t) V_y(0)\\rangle  + \\langle V_z(t) V_z(0)\\rangle\n",
    "$$\n",
    "\n",
    "$$\n",
    "= \\frac{3k_BT}{m}\\exp\\left[-\\frac{\\zeta}{m}|t|\\right]\\tag{G7}\n",
    "$$"
   ]
  },
  {
   "cell_type": "code",
   "execution_count": null,
   "metadata": {
    "ExecuteTime": {
     "end_time": "2017-03-07T18:33:16.226568",
     "start_time": "2017-03-07T18:33:15.354334"
    },
    "slideshow": {
     "slide_type": "-"
    }
   },
   "outputs": [],
   "source": [
    "# compute self-correlation of vector v\n",
    "def auto_correlate(v):\n",
    "    # np.correlate computes C_{v}[k] = sum_n v[n+k] * v[n]\n",
    "    corr = np.correlate(v,v,mode=\"full\") # correlate returns even array [0:2*nums-1] centered at nums-1\n",
    "    return corr[len(v)-1:]/len(v) # take positive values and normalize by number of points\n",
    "corr = np.zeros([nums])\n",
    "for n in range(nump):\n",
    "    for d in range(dim):\n",
    "        corr = corr + auto_correlate(Vs[:,n,d]) # correlation of d-component of velocity for particle n\n",
    "corr=corr/nump #average over all particles\n",
    "fig, ax = plt.subplots(figsize=(7.5,7.5))\n",
    "ax.plot(time,dim*kBT/m*np.exp(-zeta/m*time),'r',lw=6, label=r'$(3k_BT/m)\\exp(-\\zeta t/m)$')\n",
    "ax.plot(time,corr,'b',lw=3,label=r'$\\langle\\mathbf{V}(t)\\cdot \\mathbf{V}(0)\\rangle$')\n",
    "ax.set_xlabel(r\"time $t$\", fontsize=20)\n",
    "ax.set_ylabel(r\"auto correlation $\\varphi_V(t)$\", fontsize=20)\n",
    "ax.set_xlim(-1,10)\n",
    "ax.set_ylim(-0.5,3.5)\n",
    "ax.legend(fontsize=16)\n",
    "plt.show()"
   ]
  },
  {
   "cell_type": "markdown",
   "metadata": {
    "slideshow": {
     "slide_type": "slide"
    }
   },
   "source": [
    "## Power spectrum of particle velocity\n",
    "\n",
    "- Calculate the power spectrum of the particle velocity, and compare it with the following theoretical result (see the derivation for Eq.(25))\n",
    "\n",
    "$$\n",
    "S_V(\\omega)=\\lim_{\\tau\\rightarrow \\infty}\\frac{1}{\\tau}\\lvert\\mathbf{V}_\\tau(\\omega)\\rvert^2=\\frac{6 k_BT}{m}\\frac{\\gamma_c}{\\omega^2+\\gamma_c^2}\n",
    "\\tag{G8}\n",
    "$$\n",
    "where $\\gamma_c = \\zeta / m$ is the decay constant in Eq.(G7) and\n",
    "\n",
    "$$\n",
    "\\mathbf{V}_{\\tau}(\\omega) = \\int_{0}^{\\tau} \\mathrm{d}t\\, \\mathbf{V}(t) e^{i\\omega t}\\tag{G9}\n",
    "$$"
   ]
  },
  {
   "cell_type": "code",
   "execution_count": null,
   "metadata": {
    "ExecuteTime": {
     "end_time": "2017-03-07T18:33:18.921003",
     "start_time": "2017-03-07T18:33:18.312151"
    },
    "cell_style": "center",
    "slideshow": {
     "slide_type": "-"
    }
   },
   "outputs": [],
   "source": [
    "# return power spectrum for positive frequencies of even signal v\n",
    "from numpy import fft\n",
    "def psd(v,dt):  \n",
    "    vw = fft.fft(v)*dt # V(w) with zero-frequency component at vw(0)\n",
    "    return np.abs(vw[:nums//2])**2/(nums*dt) # S_V for w > 0 (Eq. (G9))\n",
    "Sw   = np.zeros([nums//2])\n",
    "for n in range(nump):\n",
    "    for d in range(dim):\n",
    "        Sw = Sw + psd(Vs[:,n,d],dt) # power spectrum of d-component of velocity for particle n\n",
    "Sw = Sw/nump\n",
    "fig, ax = plt.subplots(figsize=(7.5,7.5))\n",
    "gamma = zeta/m\n",
    "omega = fft.fftfreq(nums,d=dt)[:nums//2]*2.0*np.pi\n",
    "ax.plot(omega,(6.0*kBT/m)*gamma/(omega**2 + gamma**2),'r',lw=6,label=r'$6k_BT\\gamma_c/(m(\\omega^2+\\gamma_c^2))$')                         \n",
    "ax.plot(omega,Sw,'b',lw=3,label=r'$|\\mathbf{V}_\\tau(\\omega)|^2 / \\tau$')\n",
    "ax.set_xlabel(r\"angular frequency $\\omega$\", fontsize=16)\n",
    "ax.set_ylabel(r\"spectral density $S_V(\\omega)$\", fontsize=16)\n",
    "ax.legend(fontsize=16)\n",
    "plt.xlim(-1, 10)\n",
    "plt.ylim(-1, 8)\n",
    "plt.show()"
   ]
  },
  {
   "cell_type": "code",
   "execution_count": null,
   "metadata": {},
   "outputs": [],
   "source": []
  }
 ],
 "metadata": {
  "anaconda-cloud": {},
  "celltoolbar": "Slideshow",
  "kernelspec": {
   "display_name": "Python 3 (ipykernel)",
   "language": "python",
   "name": "python3"
  },
  "language_info": {
   "codemirror_mode": {
    "name": "ipython",
    "version": 3
   },
   "file_extension": ".py",
   "mimetype": "text/x-python",
   "name": "python",
   "nbconvert_exporter": "python",
   "pygments_lexer": "ipython3",
   "version": "3.9.13"
  },
  "latex_envs": {
   "LaTeX_envs_menu_present": true,
   "bibliofile": "biblio.bib",
   "cite_by": "apalike",
   "current_citInitial": 1,
   "eqLabelWithNumbers": true,
   "eqNumInitial": 1,
   "hotkeys": {
    "equation": "Ctrl-E",
    "itemize": "Ctrl-I"
   },
   "labels_anchors": false,
   "latex_user_defs": false,
   "report_style_numbering": false,
   "user_envs_cfg": false
  },
  "toc": {
   "colors": {
    "hover_highlight": "#DAA520",
    "running_highlight": "#FF0000",
    "selected_highlight": "#FFD700"
   },
   "moveMenuLeft": true,
   "nav_menu": {
    "height": "350px",
    "width": "252px"
   },
   "navigate_menu": true,
   "number_sections": true,
   "sideBar": true,
   "threshold": 4,
   "toc_cell": false,
   "toc_section_display": "block",
   "toc_window_display": false
  }
 },
 "nbformat": 4,
 "nbformat_minor": 2
}
