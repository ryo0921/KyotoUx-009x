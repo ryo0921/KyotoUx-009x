{
 "cells": [
  {
   "cell_type": "markdown",
   "metadata": {
    "slideshow": {
     "slide_type": "slide"
    }
   },
   "source": [
    "# Stochastic Processes: <br>Data Analysis and Computer Simulation\n",
    "<br>\n",
    "\n",
    "\n",
    "# Brownian motion 3: data analysis\n",
    "<br>\n",
    "\n",
    "\n",
    "# 2. Mean square displacement and diffusion constant\n",
    "<br>"
   ]
  },
  {
   "cell_type": "markdown",
   "metadata": {
    "slideshow": {
     "slide_type": "slide"
    }
   },
   "source": [
    "# Calculating the diffusion constant from simulation data\n",
    "\n",
    "# 2.1. Perform simulation (at equilibrium)"
   ]
  },
  {
   "cell_type": "code",
   "execution_count": null,
   "metadata": {
    "ExecuteTime": {
     "end_time": "2017-03-09T14:26:08.652445",
     "start_time": "2017-03-09T14:26:08.011339"
    }
   },
   "outputs": [],
   "source": [
    "%matplotlib inline\n",
    "import numpy as np\n",
    "import matplotlib.pyplot as plt\n",
    "import matplotlib as mpl\n",
    "plt.style.use('ggplot')\n",
    "dim  = 3    # system dimension (x,y,z)\n",
    "nump = 1000 # number of independent Brownian particles to simulate \n",
    "nums = 1024 # number of simulation steps\n",
    "dt   = 0.05 # set time increment, \\Delta t\n",
    "zeta = 1.0  # set friction constant, \\zeta\n",
    "m    = 1.0  # set particle mass, m\n",
    "kBT  = 1.0  # set temperatute, k_B T\n",
    "std  = np.sqrt(2*kBT*zeta*dt) # calculate std for \\Delta W via Eq.(F11)\n",
    "np.random.seed(0) # initialize random number generator with a seed=0\n",
    "R = np.zeros([nump,dim]) # array to store current positions and set initial condition Eq.(F12)\n",
    "V = np.zeros([nump,dim]) # array to store current velocities and set initial condition Eq.(F12)\n",
    "W = np.zeros([nump,dim]) # array to store current random forcces\n",
    "Rs = np.zeros([nums,nump,dim]) # array to store positions at all steps\n",
    "Vs = np.zeros([nums,nump,dim]) # array to store velocities at all steps\n",
    "Ws = np.zeros([nums,nump,dim]) # array to store random forces at all steps\n",
    "time = np.zeros([nums]) # an array to store time at all steps\n",
    "for i in range(nums): # repeat the following operations from i=0 to nums-1\n",
    "    W = std*np.random.randn(nump,dim) # generate an array of random forces according to Eqs.(F10) and (F11)\n",
    "    R, V = R + V*dt, V*(1-zeta/m*dt)+W/m # update R & V via Eqs.(F5)&(F9)\n",
    "    Rs[i]=R # accumulate particle positions at each step in an array Rs\n",
    "    Vs[i]=V # accumulate particle velocitys at each step in an array Vs\n",
    "    Ws[i]=W # accumulate random forces at each step in an array Ws\n",
    "    time[i]=i*dt # store time in each step in an array time"
   ]
  },
  {
   "cell_type": "markdown",
   "metadata": {
    "slideshow": {
     "slide_type": "slide"
    }
   },
   "source": [
    "# 2.2. Mean square displacement vs. time"
   ]
  },
  {
   "cell_type": "markdown",
   "metadata": {
    "slideshow": {
     "slide_type": "-"
    }
   },
   "source": [
    "- Calculate the mean square displacement, and compare it with the following theoretical result (see the derivation for Eq.(30)).\n",
    "$$\n",
    "\\langle[\\mathbf{R}(t)-\\mathbf{R}(0)]^2\\rangle=6Dt\\tag{H1}\n",
    "$$\n",
    "<br>\n",
    "- Note that the diffusion constant can be easily calculated from the mean square displacement by integrating both sides of Eq.(H1) with respect to time\n",
    "$$\n",
    "D = \\frac{1}{3 T^2} \\int_0^T \\mathrm{d} t \\,\\langle[\\mathbf{R}(t) - \\mathbf{R}(0)]^2\\rangle\\tag{H2}\n",
    "$$"
   ]
  },
  {
   "cell_type": "code",
   "execution_count": null,
   "metadata": {
    "ExecuteTime": {
     "end_time": "2017-03-09T12:43:05.593712",
     "start_time": "2017-03-09T12:43:01.076412"
    },
    "slideshow": {
     "slide_type": "-"
    }
   },
   "outputs": [],
   "source": [
    "# mean square displacement vs time\n",
    "msd = np.zeros([nums])\n",
    "for i in range(nums): # loop over time steps\n",
    "    for n in range(nump): # loop over particles\n",
    "        msd[i]=msd[i]+np.linalg.norm(Rs[i,n,:])**2 # (R(t) - R(0))^2 = R(t)^2, since R(0) = 0 for all particles\n",
    "    msd[i] = msd[i]/nump  # average over particles\n",
    "dmsd = np.trapz(msd, dx=dt)/ (3*(nums*dt)**2) # integrate using trapezoidal rule\n",
    "print('D =',kBT/zeta,'(Theoretical)')\n",
    "print('D =',dmsd,'(Simulation via MSD)')\n",
    "fig, ax = plt.subplots(figsize=(7.5,7.5))\n",
    "ax.set_xlabel(r\"$t$\", fontsize=20)\n",
    "ax.set_ylabel(r\"mean square displacement\", fontsize=16)\n",
    "ax.plot(time,6*kBT/zeta*time,'r',lw=6, label=r'$6D\\,t={6k_BT \\,t}/{\\zeta}$')\n",
    "ax.plot(time,msd,'b',lw=4, label=r'$\\langle R^2(t)\\rangle$')\n",
    "ax.legend(fontsize=16,loc=4)\n",
    "plt.show()"
   ]
  },
  {
   "cell_type": "markdown",
   "metadata": {
    "slideshow": {
     "slide_type": "slide"
    }
   },
   "source": [
    "# 2.3. Diffusion constant and Velocity auto-correlation function"
   ]
  },
  {
   "cell_type": "markdown",
   "metadata": {},
   "source": [
    "- Calculate the velocity auto-correlation function, and evaluate the diffusion constant using the Green-Kubo formula (see the derivation for Eq.(49)).\n",
    "\n",
    "$$\n",
    "D=\\frac{1}{3}\\int_o^\\infty \\varphi_V(t) dt\n",
    "\\tag{H3}\n",
    "$$"
   ]
  },
  {
   "cell_type": "code",
   "execution_count": null,
   "metadata": {
    "ExecuteTime": {
     "end_time": "2017-03-09T12:44:11.796411",
     "start_time": "2017-03-09T12:44:10.908990"
    }
   },
   "outputs": [],
   "source": [
    "# compute self-correlation of vector v\n",
    "def auto_correlate(v):\n",
    "    # np.correlate computes C_{v}[k] = sum_n v[n+k] * v[n]\n",
    "    corr = np.correlate(v,v,mode=\"full\") # correlate returns even array [0:2*nums-1] centered at nums-1\n",
    "    return corr[len(v)-1:]/len(v) # take positive values and normalize by number of points\n",
    "corr = np.zeros([nums])\n",
    "for n in range(nump):\n",
    "    for d in range(dim):\n",
    "        corr = corr + auto_correlate(Vs[:,n,d]) # correlation of d-component of velocity for particle n\n",
    "corr=corr/nump #average over all particles\n",
    "print('D =',kBT/zeta,'(Theoretical)')\n",
    "print('D =',np.trapz(corr,dx=dt)/3,'(Simulation via Green-Kubo)')\n",
    "fig, ax = plt.subplots(figsize=(7.5,7.5))\n",
    "ax.plot(time,dim*kBT/m*np.exp(-zeta/m*time),'r',lw=6, label=r'$(3k_BT/m)\\exp(-\\zeta t/m)$')\n",
    "ax.plot(time,corr,'b',lw=3,label=r'$\\langle\\mathbf{V}(t)\\cdot \\mathbf{V}(0)\\rangle$')\n",
    "ax.set_xlabel(r\"time $t$\", fontsize=20)\n",
    "ax.set_ylabel(r\"auto correlation $C_V(t)$\", fontsize=20)\n",
    "ax.set_xlim(-1,10)\n",
    "ax.set_ylim(-0.5,3.5)\n",
    "ax.legend(fontsize=16)\n",
    "plt.show()"
   ]
  },
  {
   "cell_type": "markdown",
   "metadata": {
    "slideshow": {
     "slide_type": "slide"
    }
   },
   "source": [
    "# 2.4. Perform simulation under external force (out of equilibrium)"
   ]
  },
  {
   "cell_type": "code",
   "execution_count": null,
   "metadata": {
    "ExecuteTime": {
     "end_time": "2017-03-09T12:44:39.385750",
     "start_time": "2017-03-09T12:44:39.238260"
    }
   },
   "outputs": [],
   "source": [
    "dim  = 3    # system dimension (x,y,z)\n",
    "nump = 1000 # number of independent Brownian particles to simulate \n",
    "nums = 1024 # number of simulation steps\n",
    "dt   = 0.05 # set time increment, \\Delta t\n",
    "zeta = 1.0  # set friction constant, \\zeta\n",
    "m    = 1.0  # set particle mass, m\n",
    "kBT  = 1.0  # set temperatute, k_B T\n",
    "F0   = 1.0  # set external drift force\n",
    "std  = np.sqrt(2*kBT*zeta*dt) # calculate std for \\Delta W via Eq.(F11)\n",
    "np.random.seed(0) # initialize random number generator with a seed=0\n",
    "R = np.zeros([nump,dim]) # array to store current positions and set initial condition Eq.(F12)\n",
    "V = np.zeros([nump,dim]) # array to store current velocities and set initial condition Eq.(F12)\n",
    "W = np.zeros([nump,dim]) # array to store current random forcces\n",
    "F = np.zeros([nump,dim]) # array to store external force\n",
    "Rs = np.zeros([nums,nump,dim]) # array to store positions at all steps\n",
    "Vs = np.zeros([nums,nump,dim]) # array to store velocities at all steps\n",
    "Ws = np.zeros([nums,nump,dim]) # array to store random forces at all steps\n",
    "time  = np.zeros([nums]) # an array to store time at all steps\n",
    "F[:,0]=F0 # constant force along x, zero force in y and z\n",
    "for i in range(nums): # repeat the following operations from i=0 to nums-1\n",
    "    W = std*np.random.randn(nump,dim) # generate an array of random forces accordingly to Eqs.(F10) and (F11)\n",
    "    R, V = R + V*dt, V*(1-zeta/m*dt)+W/m+F/m*dt # update R & V via Eqs.(F5)&(F9)\n",
    "    Rs[i]=R # accumulate particle positions at each step in an array Rs\n",
    "    Vs[i]=V # accumulate particle velocitys at each step in an array Vs\n",
    "    Ws[i]=W # accumulate random forces at each step in an array Ws\n",
    "    time[i]=i*dt # store time in each step in an array time"
   ]
  },
  {
   "cell_type": "markdown",
   "metadata": {
    "slideshow": {
     "slide_type": "slide"
    }
   },
   "source": [
    "# 2.5. Drift velocity under external force"
   ]
  },
  {
   "cell_type": "markdown",
   "metadata": {},
   "source": [
    "- Calculate the drift velocity $\\langle V_x \\rangle_{ext}$, and evaluate the diffusion constant using the equation shown here (see the derivation for Eq.(43)).\n",
    "\n",
    "$$\n",
    "D=\\frac{\\langle V_x \\rangle_{ext}k_BT}{F_0}\n",
    "\\tag{H4}\n",
    "$$"
   ]
  },
  {
   "cell_type": "code",
   "execution_count": null,
   "metadata": {
    "ExecuteTime": {
     "end_time": "2017-03-09T12:44:43.367456",
     "start_time": "2017-03-09T12:44:42.951781"
    }
   },
   "outputs": [],
   "source": [
    "Vsa = np.average(Vs,axis=1) # average over particles (0-axis is time, 1-axis is particles, 2-axis is dimension)\n",
    "Vx  = np.average(Vsa[:,0]) # time average of (particle averaged) x-velocity\n",
    "print('D =',kBT/zeta, '(Theoretical)')\n",
    "print('D =',Vx*kBT/F0,'(Simulation with external force)')\n",
    "fig, ax = plt.subplots(figsize=(7.5,7.5))\n",
    "ax.set_ylabel(r\"$V_{\\alpha}(t)$\", fontsize=20)\n",
    "ax.set_xlabel(r\"$t$\", fontsize=20)\n",
    "ax.plot(time,F0/zeta*np.ones(nums),'k',lw=4,label=r\"$F_0/\\zeta=DF_0/k_B T$\")\n",
    "ax.plot(time,Vsa[:,0],'r',lw=2,label=\"$x$\")\n",
    "ax.plot(time,Vsa[:,1],'b',lw=2,label=\"$y$\")\n",
    "ax.plot(time,Vsa[:,2],'g',lw=2,label=\"$z$\")\n",
    "ax.legend(fontsize=16,loc=5)\n",
    "plt.show()"
   ]
  },
  {
   "cell_type": "code",
   "execution_count": null,
   "metadata": {},
   "outputs": [],
   "source": []
  }
 ],
 "metadata": {
  "anaconda-cloud": {},
  "celltoolbar": "Slideshow",
  "kernelspec": {
   "display_name": "Python 3 (ipykernel)",
   "language": "python",
   "name": "python3"
  },
  "language_info": {
   "codemirror_mode": {
    "name": "ipython",
    "version": 3
   },
   "file_extension": ".py",
   "mimetype": "text/x-python",
   "name": "python",
   "nbconvert_exporter": "python",
   "pygments_lexer": "ipython3",
   "version": "3.9.13"
  },
  "latex_envs": {
   "LaTeX_envs_menu_present": true,
   "bibliofile": "biblio.bib",
   "cite_by": "apalike",
   "current_citInitial": 1,
   "eqLabelWithNumbers": true,
   "eqNumInitial": 1,
   "hotkeys": {
    "equation": "Ctrl-E",
    "itemize": "Ctrl-I"
   },
   "labels_anchors": false,
   "latex_user_defs": false,
   "report_style_numbering": false,
   "user_envs_cfg": false
  },
  "toc": {
   "colors": {
    "hover_highlight": "#DAA520",
    "running_highlight": "#FF0000",
    "selected_highlight": "#FFD700"
   },
   "moveMenuLeft": true,
   "nav_menu": {
    "height": "243px",
    "width": "252px"
   },
   "navigate_menu": true,
   "number_sections": true,
   "sideBar": true,
   "threshold": 4,
   "toc_cell": false,
   "toc_section_display": "block",
   "toc_window_display": false
  }
 },
 "nbformat": 4,
 "nbformat_minor": 1
}
