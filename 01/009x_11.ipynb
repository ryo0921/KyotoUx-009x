{
 "cells": [
  {
   "cell_type": "markdown",
   "metadata": {
    "nbpresent": {
     "id": "20676e59-d513-4851-93b5-2071480cc200"
    },
    "slideshow": {
     "slide_type": "slide"
    }
   },
   "source": [
    "# Stochastic Processes: <br>Data Analysis and Computer Simulation\n",
    "<br>\n",
    "\n",
    "\n",
    "# Python programming for beginners\n",
    "<br>\n",
    "\n",
    "\n",
    "# 1. Using Python, iPython, and Jupyter notebook\n",
    "<br>"
   ]
  },
  {
   "cell_type": "markdown",
   "metadata": {
    "slideshow": {
     "slide_type": "slide"
    }
   },
   "source": [
    "# 1.1. Install anaconda"
   ]
  },
  {
   "cell_type": "markdown",
   "metadata": {},
   "source": [
    "## Instractions\n",
    "- Download the Python 3.$*$ Anaconda package appropriate for your platform (Windows/Mac/Linux) from the official website ( https://www.anaconda.com/download/ ). \n",
    "- Install anaconda by executing the installer program (see details at https://docs.anaconda.com/anaconda/install/ ).\n",
    "- You can update to the latest version of Anaconda by executing the following commands from the command line (optional). \n",
    "```\n",
    "conda update conda\n",
    "conda update anaconda\n",
    "```"
   ]
  },
  {
   "cell_type": "markdown",
   "metadata": {
    "slideshow": {
     "slide_type": "slide"
    }
   },
   "source": [
    "# 1.2. Launch jupyter notebook"
   ]
  },
  {
   "cell_type": "markdown",
   "metadata": {
    "slideshow": {
     "slide_type": "-"
    }
   },
   "source": [
    "## Demonstration\n",
    "```\n",
    "mkdir work\n",
    "cd work   \n",
    "jupyter notebook\n",
    "[I 18:10:21.427 NotebookApp] Serving notebooks from local directory: /Users/ryoichi/work\n",
    "[I 18:10:21.427 NotebookApp] 0 active kernels \n",
    "...\n",
    "```\n",
    "![](fig/01.png)"
   ]
  },
  {
   "cell_type": "markdown",
   "metadata": {
    "nbpresent": {
     "id": "e9110199-25a9-4051-a111-13ea03e49634"
    },
    "slideshow": {
     "slide_type": "slide"
    }
   },
   "source": [
    "## Demo continued...\n",
    "![](fig/02a.png)"
   ]
  },
  {
   "cell_type": "markdown",
   "metadata": {
    "slideshow": {
     "slide_type": "slide"
    }
   },
   "source": [
    "## Demo continued...\n",
    "![](fig/03.png)"
   ]
  },
  {
   "cell_type": "markdown",
   "metadata": {
    "slideshow": {
     "slide_type": "slide"
    }
   },
   "source": [
    "# 1.3. Check Python version"
   ]
  },
  {
   "cell_type": "markdown",
   "metadata": {
    "slideshow": {
     "slide_type": "-"
    }
   },
   "source": [
    "## Demonstration\n",
    "\n",
    "- Type the following commands, and perform one of the followings or click the icon circled in red in the figure.\n",
    " 1. press \"Control-Return\"\n",
    " 1. choose \"Cell\" menu -> \"Insert Cell below\"."
   ]
  },
  {
   "cell_type": "code",
   "execution_count": null,
   "metadata": {
    "slideshow": {
     "slide_type": "-"
    }
   },
   "outputs": [],
   "source": [
    "import sys\n",
    "sys.version"
   ]
  },
  {
   "cell_type": "markdown",
   "metadata": {
    "slideshow": {
     "slide_type": "-"
    }
   },
   "source": [
    "![](fig/03b.png)"
   ]
  },
  {
   "cell_type": "markdown",
   "metadata": {
    "nbpresent": {
     "id": "a07d72ba-5817-4081-a6ae-2849a10713dd"
    },
    "slideshow": {
     "slide_type": "slide"
    }
   },
   "source": [
    "# 1.4. Use jupyter notebook to run Python in interactive mode: Code mode"
   ]
  },
  {
   "cell_type": "markdown",
   "metadata": {
    "slideshow": {
     "slide_type": "-"
    }
   },
   "source": [
    "## Creat a new cell"
   ]
  },
  {
   "cell_type": "markdown",
   "metadata": {
    "slideshow": {
     "slide_type": "-"
    }
   },
   "source": [
    "### Instructions\n",
    "\n",
    "- Perform one of the following operations to create a new cell. \n",
    " 1. press \"Shift-Return\"\n",
    " 1. choose \"Insert\" -> \"Insert Cell below\" from the menubar.\n",
    " 1. click \"+\" icon circled in blue in the figure.\n",
    " \n",
    " ![](fig/03c.png)"
   ]
  },
  {
   "cell_type": "markdown",
   "metadata": {
    "slideshow": {
     "slide_type": "slide"
    }
   },
   "source": [
    "## The simplest calculation"
   ]
  },
  {
   "cell_type": "markdown",
   "metadata": {},
   "source": [
    "### A code example"
   ]
  },
  {
   "cell_type": "code",
   "execution_count": null,
   "metadata": {
    "slideshow": {
     "slide_type": "-"
    }
   },
   "outputs": [],
   "source": [
    "1+1"
   ]
  },
  {
   "cell_type": "markdown",
   "metadata": {
    "nbpresent": {
     "id": "19032d51-6a19-4cea-9814-6de89c49db0c"
    },
    "slideshow": {
     "slide_type": "slide"
    }
   },
   "source": [
    "## Mathematical functions\n",
    "### A code example"
   ]
  },
  {
   "cell_type": "code",
   "execution_count": null,
   "metadata": {
    "nbpresent": {
     "id": "385c074c-f603-438d-a251-f92b1fc8360f"
    },
    "slideshow": {
     "slide_type": "-"
    }
   },
   "outputs": [],
   "source": [
    "import numpy as np\n",
    "thrad=0.5\n",
    "theta=thrad*np.pi\n",
    "sinth=np.sin(theta)\n",
    "costh=np.cos(theta)\n",
    "print('theta =',thrad,'* pi')\n",
    "print('sin(theta) =',sinth)\n",
    "print('cos(theta) =',costh)"
   ]
  },
  {
   "cell_type": "markdown",
   "metadata": {
    "nbpresent": {
     "id": "1fd13e5c-1e30-4dc0-be04-12f96ec974ff"
    },
    "slideshow": {
     "slide_type": "slide"
    }
   },
   "source": [
    "# 1.5. Use jupyter notebook to write documents: Markdown mode"
   ]
  },
  {
   "cell_type": "markdown",
   "metadata": {},
   "source": [
    "## Change cell mode\n",
    "\n",
    "### Instructions\n",
    "\n",
    "- Select the cell and change cell type to Markdown mode by one of the following operations.\n",
    " 1. press \"ESC\" to enter command mode and then press \"m\" \n",
    " 1. choose \"Cell\" -> \"Cell Type\" -> \"Markdown\" from the menu"
   ]
  },
  {
   "cell_type": "markdown",
   "metadata": {
    "slideshow": {
     "slide_type": "slide"
    }
   },
   "source": [
    "## Write text\n",
    "\n",
    "### A code example\n",
    "\n",
    "- Type (or copy and paste) the following code example in the selected cell and run it. \n",
    "\n",
    "```\n",
    "# Title level 1\n",
    "## Title level 2\n",
    "### Title level 3\n",
    "\n",
    "- Item 1\n",
    "- Item 2\n",
    "\n",
    "\n",
    "1. Enumerate 1\n",
    "2. Enumerate 2\n",
    "```\n"
   ]
  },
  {
   "cell_type": "markdown",
   "metadata": {
    "nbpresent": {
     "id": "9f86a7e4-ae1b-4781-b0c7-95d3e15b3bbc"
    },
    "slideshow": {
     "slide_type": "slide"
    }
   },
   "source": [
    "# Title level 1\n",
    "## Title level 2\n",
    "### Title level 3\n",
    "\n",
    "- Item 1\n",
    "- Item 2\n",
    "\n",
    "\n",
    "1. Enumerate 1\n",
    "1. Enumerate 2"
   ]
  },
  {
   "cell_type": "markdown",
   "metadata": {
    "nbpresent": {
     "id": "99f8abe3-f5aa-4762-8362-169367cb9d55"
    },
    "slideshow": {
     "slide_type": "slide"
    }
   },
   "source": [
    "## Mathematical Typesetting\n",
    "\n",
    "### A code example\n",
    "- Type (or copy and paste) the following code example in the selected cell and run it. \n",
    "\n",
    "```\n",
    "$$\n",
    "\\frac{d\\mathbf{R}(t)}{dt}=\\mathbf{V}(t) \\tag{1} \n",
    "$$\n",
    "$$\n",
    "m\\frac{d\\mathbf{V}(t)}{dt}=-\\zeta\\mathbf{V}(t)-k\\mathbf{R}(t) \\tag{2} \n",
    "$$\n",
    "```\n"
   ]
  },
  {
   "cell_type": "markdown",
   "metadata": {
    "nbpresent": {
     "id": "0e97808f-846c-422b-95f9-ba2f1a89339d"
    },
    "slideshow": {
     "slide_type": "fragment"
    }
   },
   "source": [
    "$$\n",
    "\\frac{d\\mathbf{R}(t)}{dt}=\\mathbf{V}(t) \\tag{1} \n",
    "$$\n",
    "$$ \n",
    "m\\frac{d\\mathbf{V}(t)}{dt}=-\\zeta\\mathbf{V}(t)-k\\mathbf{R}(t) \\tag{2} \n",
    "$$"
   ]
  },
  {
   "cell_type": "markdown",
   "metadata": {
    "collapsed": true,
    "nbpresent": {
     "id": "6fd649ff-33ab-4c60-bb3a-91ea02ecb9fc"
    },
    "slideshow": {
     "slide_type": "slide"
    }
   },
   "source": [
    "# 1.6. Save  jupyter notebook"
   ]
  },
  {
   "cell_type": "markdown",
   "metadata": {},
   "source": [
    "## Save to file\n",
    "\n",
    "1. Select \"File\" menu -> \"Save and Checkpoint\".\n",
    "1. click the \"save\" icon circled in green in the figure shown below.\n",
    "\n",
    "## Change file name\n",
    "\n",
    "- Select \"File\" menu -> \"Rename\" -> Enter a new notebook name -> \"OK\"\n",
    "\n",
    " ![](fig/03d.png)"
   ]
  },
  {
   "cell_type": "markdown",
   "metadata": {
    "slideshow": {
     "slide_type": "slide"
    }
   },
   "source": [
    "# 1.7. Terminate jupyter notebook"
   ]
  },
  {
   "cell_type": "markdown",
   "metadata": {},
   "source": [
    "## Server\n",
    "\n",
    "1. Press \"Control-C\" (\"Control\" and \"c\" keys together) in command line.\n",
    "1. Select \"File\" menu -> \"Close and Halt\".\n",
    "\n",
    "## Browser\n",
    "\n",
    "- If the jupyter notebook server is not terminated, you can resume the notebook by re-opening the same local URL (by default, http://localhost:8888)."
   ]
  },
  {
   "cell_type": "markdown",
   "metadata": {
    "slideshow": {
     "slide_type": "slide"
    }
   },
   "source": [
    "# References\n",
    "\n",
    "- Local URL for Jupyter notebook, by default, http://localhost:8888\n",
    "\n",
    "- The numpy website, http://www.numpy.org/\n",
    "\n",
    "- Mastering Markdown, https://guides.github.com/features/mastering-markdown/\n",
    "\n",
    "- The LaTeX project, https://www.latex-project.org/\n",
    "\n"
   ]
  }
 ],
 "metadata": {
  "anaconda-cloud": {},
  "celltoolbar": "Slideshow",
  "kernelspec": {
   "display_name": "Python 3 (ipykernel)",
   "language": "python",
   "name": "python3"
  },
  "language_info": {
   "codemirror_mode": {
    "name": "ipython",
    "version": 3
   },
   "file_extension": ".py",
   "mimetype": "text/x-python",
   "name": "python",
   "nbconvert_exporter": "python",
   "pygments_lexer": "ipython3",
   "version": "3.9.13"
  },
  "nbpresent": {
   "slides": {
    "10738343-056d-4f7b-b562-a03a013409a3": {
     "id": "10738343-056d-4f7b-b562-a03a013409a3",
     "prev": null,
     "regions": {
      "b3c7e7b4-28d8-4d32-9284-63ad93b6cd32": {
       "attrs": {
        "height": 0.8,
        "width": 0.8,
        "x": 0.1,
        "y": 0.1
       },
       "content": {
        "cell": "351500b5-84a6-4fc3-a45f-26a7f1e45b2d",
        "part": "whole"
       },
       "id": "b3c7e7b4-28d8-4d32-9284-63ad93b6cd32"
      }
     }
    },
    "23a5522a-f257-483e-98be-926b90604841": {
     "id": "23a5522a-f257-483e-98be-926b90604841",
     "prev": "620f111c-856c-461c-b18d-a17b48d075ea",
     "regions": {
      "b188771a-74f7-4906-a852-4c90364fc124": {
       "attrs": {
        "height": 0.8,
        "width": 0.8,
        "x": 0.1,
        "y": 0.1
       },
       "content": {
        "cell": "6fd649ff-33ab-4c60-bb3a-91ea02ecb9fc",
        "part": "whole"
       },
       "id": "b188771a-74f7-4906-a852-4c90364fc124"
      }
     }
    },
    "576f9bfc-734a-487e-8f68-a21a44ca0d69": {
     "id": "576f9bfc-734a-487e-8f68-a21a44ca0d69",
     "prev": "efd2fdb1-46b2-414a-aaa1-d52c2339ed42",
     "regions": {
      "3357b334-9e3a-4fea-970c-b48b21b8d843": {
       "attrs": {
        "height": 0.8,
        "width": 0.8,
        "x": 0.1,
        "y": 0.1
       },
       "content": {
        "cell": "20676e59-d513-4851-93b5-2071480cc200",
        "part": "whole"
       },
       "id": "3357b334-9e3a-4fea-970c-b48b21b8d843"
      }
     }
    },
    "620f111c-856c-461c-b18d-a17b48d075ea": {
     "id": "620f111c-856c-461c-b18d-a17b48d075ea",
     "prev": "e9dd55c9-2b00-4c2c-a752-fcbead114138",
     "regions": {
      "1a072aa6-6374-4349-a54f-9224671d513e": {
       "attrs": {
        "height": 0.8,
        "width": 0.8,
        "x": 0.1,
        "y": 0.1
       },
       "content": {
        "cell": "0e97808f-846c-422b-95f9-ba2f1a89339d",
        "part": "whole"
       },
       "id": "1a072aa6-6374-4349-a54f-9224671d513e"
      }
     }
    },
    "812bf0fc-b948-4e2a-90fb-d53154307ecd": {
     "id": "812bf0fc-b948-4e2a-90fb-d53154307ecd",
     "prev": "9076a758-7d06-449d-8d0f-748028632efa",
     "regions": {
      "197f7ca1-5c00-44c6-a0ba-c697d7085002": {
       "attrs": {
        "height": 0.8,
        "width": 0.8,
        "x": 0.1,
        "y": 0.1
       },
       "content": {
        "cell": "e9110199-25a9-4051-a111-13ea03e49634",
        "part": "whole"
       },
       "id": "197f7ca1-5c00-44c6-a0ba-c697d7085002"
      }
     }
    },
    "896f0fb7-30b1-4056-a7bd-d465e1e27de7": {
     "id": "896f0fb7-30b1-4056-a7bd-d465e1e27de7",
     "prev": "9aa609c2-5361-4aca-98ec-e737160ebf58",
     "regions": {
      "4b88b8ac-2327-4e84-96f3-1ec5cd15cd81": {
       "attrs": {
        "height": 0.8,
        "width": 0.8,
        "x": 0.1,
        "y": 0.1
       },
       "content": {
        "cell": "19032d51-6a19-4cea-9814-6de89c49db0c",
        "part": "whole"
       },
       "id": "4b88b8ac-2327-4e84-96f3-1ec5cd15cd81"
      }
     }
    },
    "9076a758-7d06-449d-8d0f-748028632efa": {
     "id": "9076a758-7d06-449d-8d0f-748028632efa",
     "prev": "bc3610cb-db02-4abf-b9c4-e5f372cd715f",
     "regions": {
      "10eca187-bc1e-4be2-bb25-ce232e8b4f97": {
       "attrs": {
        "height": 0.8,
        "width": 0.8,
        "x": 0.1,
        "y": 0.1
       },
       "content": {
        "cell": "eb40cea5-448a-484f-8536-228a47b8c933",
        "part": "whole"
       },
       "id": "10eca187-bc1e-4be2-bb25-ce232e8b4f97"
      }
     }
    },
    "96b1837c-7dc9-479d-b459-435bcfd8f02f": {
     "id": "96b1837c-7dc9-479d-b459-435bcfd8f02f",
     "prev": "c279f6c4-09d6-47ae-98c6-f72c15e59bc1",
     "regions": {
      "1026c726-4a41-4961-81d0-0d3869ca705a": {
       "attrs": {
        "height": 0.8,
        "width": 0.8,
        "x": 0.1,
        "y": 0.1
       },
       "content": {
        "cell": "9f86a7e4-ae1b-4781-b0c7-95d3e15b3bbc",
        "part": "whole"
       },
       "id": "1026c726-4a41-4961-81d0-0d3869ca705a"
      }
     }
    },
    "9aa609c2-5361-4aca-98ec-e737160ebf58": {
     "id": "9aa609c2-5361-4aca-98ec-e737160ebf58",
     "prev": "be46f5f8-5b0a-433d-9376-6e677bd730a2",
     "regions": {
      "398f4548-f279-42c9-863a-846357699894": {
       "attrs": {
        "height": 0.8,
        "width": 0.8,
        "x": 0.1,
        "y": 0.1
       },
       "content": {
        "cell": "ebb125b8-2246-47e5-949a-cdfe5eee6da7",
        "part": "whole"
       },
       "id": "398f4548-f279-42c9-863a-846357699894"
      }
     }
    },
    "9bb5d087-2be4-46e1-a69f-7c41eb56f824": {
     "id": "9bb5d087-2be4-46e1-a69f-7c41eb56f824",
     "prev": "896f0fb7-30b1-4056-a7bd-d465e1e27de7",
     "regions": {
      "dc0daa7d-9f97-4152-b390-61c9f8f0b577": {
       "attrs": {
        "height": 0.8,
        "width": 0.8,
        "x": 0.1,
        "y": 0.1
       },
       "content": {
        "cell": "385c074c-f603-438d-a251-f92b1fc8360f",
        "part": "whole"
       },
       "id": "dc0daa7d-9f97-4152-b390-61c9f8f0b577"
      }
     }
    },
    "b128638e-d849-4c0c-89cd-4184bf4103c1": {
     "id": "b128638e-d849-4c0c-89cd-4184bf4103c1",
     "prev": "96b1837c-7dc9-479d-b459-435bcfd8f02f",
     "regions": {
      "f71ba099-1a27-4efb-8d05-b5ca317d42fc": {
       "attrs": {
        "height": 0.8,
        "width": 0.8,
        "x": 0.1,
        "y": 0.1
       },
       "content": {
        "cell": "99f8abe3-f5aa-4762-8362-169367cb9d55",
        "part": "whole"
       },
       "id": "f71ba099-1a27-4efb-8d05-b5ca317d42fc"
      }
     }
    },
    "bc3610cb-db02-4abf-b9c4-e5f372cd715f": {
     "id": "bc3610cb-db02-4abf-b9c4-e5f372cd715f",
     "prev": "576f9bfc-734a-487e-8f68-a21a44ca0d69",
     "regions": {
      "e52e1233-ca3e-448a-94fb-cbbb7507b378": {
       "attrs": {
        "height": 0.8,
        "width": 0.8,
        "x": 0.1,
        "y": 0.1
       },
       "content": {
        "cell": "610ebddd-5c9c-4b8f-affd-455db720c814",
        "part": "whole"
       },
       "id": "e52e1233-ca3e-448a-94fb-cbbb7507b378"
      }
     }
    },
    "be46f5f8-5b0a-433d-9376-6e677bd730a2": {
     "id": "be46f5f8-5b0a-433d-9376-6e677bd730a2",
     "prev": "ccf5fae7-5ba7-4d01-a49a-fb16a9ebffe6",
     "regions": {
      "14d6df39-80e6-46ff-a661-55609fe96e7c": {
       "attrs": {
        "height": 0.8,
        "width": 0.8,
        "x": 0.1,
        "y": 0.1
       },
       "content": {
        "cell": "a07d72ba-5817-4081-a6ae-2849a10713dd",
        "part": "whole"
       },
       "id": "14d6df39-80e6-46ff-a661-55609fe96e7c"
      }
     }
    },
    "c279f6c4-09d6-47ae-98c6-f72c15e59bc1": {
     "id": "c279f6c4-09d6-47ae-98c6-f72c15e59bc1",
     "prev": "cf32698b-171b-4583-b478-954349786205",
     "regions": {
      "2605f79a-1f90-48f4-9593-d5a6bfc41a21": {
       "attrs": {
        "height": 0.8,
        "width": 0.8,
        "x": 0.1,
        "y": 0.1
       },
       "content": {
        "cell": "86ea94f3-82da-44e6-bd00-ec3ee56794a8",
        "part": "whole"
       },
       "id": "2605f79a-1f90-48f4-9593-d5a6bfc41a21"
      }
     }
    },
    "ccf5fae7-5ba7-4d01-a49a-fb16a9ebffe6": {
     "id": "ccf5fae7-5ba7-4d01-a49a-fb16a9ebffe6",
     "prev": "812bf0fc-b948-4e2a-90fb-d53154307ecd",
     "regions": {
      "403d5dd6-b93d-4d25-b917-fe454eacfe1c": {
       "attrs": {
        "height": 0.8,
        "width": 0.8,
        "x": 0.1,
        "y": 0.1
       },
       "content": {
        "cell": "2b2be9a8-820e-4c78-a90f-a607237e3234",
        "part": "whole"
       },
       "id": "403d5dd6-b93d-4d25-b917-fe454eacfe1c"
      }
     }
    },
    "cf32698b-171b-4583-b478-954349786205": {
     "id": "cf32698b-171b-4583-b478-954349786205",
     "prev": "9bb5d087-2be4-46e1-a69f-7c41eb56f824",
     "regions": {
      "2185d5e9-3fa2-40ca-853d-950bd8595e40": {
       "attrs": {
        "height": 0.8,
        "width": 0.8,
        "x": 0.1,
        "y": 0.1
       },
       "content": {
        "cell": "1fd13e5c-1e30-4dc0-be04-12f96ec974ff",
        "part": "whole"
       },
       "id": "2185d5e9-3fa2-40ca-853d-950bd8595e40"
      }
     }
    },
    "e9dd55c9-2b00-4c2c-a752-fcbead114138": {
     "id": "e9dd55c9-2b00-4c2c-a752-fcbead114138",
     "prev": "b128638e-d849-4c0c-89cd-4184bf4103c1",
     "regions": {
      "df01ef33-e2d1-4e89-9ee7-8aa632e8abb6": {
       "attrs": {
        "height": 0.8,
        "width": 0.8,
        "x": 0.1,
        "y": 0.1
       },
       "content": {
        "cell": "a63a8dcb-1583-422d-bd3e-c02c02854a3c",
        "part": "whole"
       },
       "id": "df01ef33-e2d1-4e89-9ee7-8aa632e8abb6"
      }
     }
    },
    "efd2fdb1-46b2-414a-aaa1-d52c2339ed42": {
     "id": "efd2fdb1-46b2-414a-aaa1-d52c2339ed42",
     "layout": "grid",
     "prev": "10738343-056d-4f7b-b562-a03a013409a3",
     "regions": {
      "9d1d999a-b919-49de-833b-895c1499f1cd": {
       "attrs": {
        "height": 0.8333333333333334,
        "pad": 0.01,
        "width": 0.8333333333333334,
        "x": 0.08333333333333333,
        "y": 0.08333333333333333
       },
       "id": "9d1d999a-b919-49de-833b-895c1499f1cd"
      }
     }
    },
    "f30290d2-aca8-463c-b657-4786911c5c35": {
     "id": "f30290d2-aca8-463c-b657-4786911c5c35",
     "prev": "23a5522a-f257-483e-98be-926b90604841",
     "regions": {
      "bfa4b9a5-35f6-4d0e-8842-28460c5a09d9": {
       "attrs": {
        "height": 0.8,
        "width": 0.8,
        "x": 0.1,
        "y": 0.1
       },
       "content": {
        "cell": "441d2ffb-dd15-4186-a566-6d220d532ae1",
        "part": "whole"
       },
       "id": "bfa4b9a5-35f6-4d0e-8842-28460c5a09d9"
      }
     }
    }
   },
   "themes": {
    "default": "73cb1ef7-9a32-4746-8684-00d9126c0018",
    "theme": {}
   }
  }
 },
 "nbformat": 4,
 "nbformat_minor": 1
}
