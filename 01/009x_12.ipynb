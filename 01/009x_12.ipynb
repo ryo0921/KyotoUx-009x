{
 "cells": [
  {
   "cell_type": "markdown",
   "metadata": {
    "slideshow": {
     "slide_type": "slide"
    }
   },
   "source": [
    "# Stochastic Processes: <br>Data Analysis and Computer Simulation\n",
    "<br>\n",
    "\n",
    "\n",
    "# Python programming for beginners\n",
    "<br>\n",
    "\n",
    "\n",
    "# 2. Making graphs with matplotlib\n",
    "<br>"
   ]
  },
  {
   "cell_type": "markdown",
   "metadata": {
    "slideshow": {
     "slide_type": "slide"
    }
   },
   "source": [
    "# 2.1. Import libraries"
   ]
  },
  {
   "cell_type": "markdown",
   "metadata": {},
   "source": [
    "## A code example"
   ]
  },
  {
   "cell_type": "code",
   "execution_count": null,
   "metadata": {
    "slideshow": {
     "slide_type": "-"
    }
   },
   "outputs": [],
   "source": [
    "%matplotlib inline\n",
    "import numpy as np # import numpy library as np\n",
    "import matplotlib.pyplot as plt # import pyplot library as plt \n",
    "plt.style.use('ggplot') # use \"ggplot\" style for graphs"
   ]
  },
  {
   "cell_type": "markdown",
   "metadata": {
    "slideshow": {
     "slide_type": "slide"
    }
   },
   "source": [
    "# 2.2. plot $\\sin(x)$"
   ]
  },
  {
   "cell_type": "markdown",
   "metadata": {
    "slideshow": {
     "slide_type": "-"
    }
   },
   "source": [
    "## A code example"
   ]
  },
  {
   "cell_type": "code",
   "execution_count": null,
   "metadata": {
    "slideshow": {
     "slide_type": "-"
    }
   },
   "outputs": [],
   "source": [
    "x = np.linspace(-3, 3) # create array of x from -3 to 3\n",
    "y = np.sin(x)  # create array of sin(x)\n",
    "plt.plot(x, y) # plot y vs. x\n",
    "plt.show()     # display plot"
   ]
  },
  {
   "cell_type": "markdown",
   "metadata": {
    "slideshow": {
     "slide_type": "slide"
    }
   },
   "source": [
    "#  2.3. plot $x$, $x^2$, $x^3$, $\\cdots$ in log-log scale."
   ]
  },
  {
   "cell_type": "markdown",
   "metadata": {
    "slideshow": {
     "slide_type": "-"
    }
   },
   "source": [
    "## A code example"
   ]
  },
  {
   "cell_type": "code",
   "execution_count": null,
   "metadata": {
    "slideshow": {
     "slide_type": "-"
    }
   },
   "outputs": [],
   "source": [
    "def func (x,n):\n",
    "    y = x**n\n",
    "    return y"
   ]
  },
  {
   "cell_type": "markdown",
   "metadata": {
    "slideshow": {
     "slide_type": "slide"
    }
   },
   "source": [
    "## A code example"
   ]
  },
  {
   "cell_type": "code",
   "execution_count": null,
   "metadata": {
    "slideshow": {
     "slide_type": "-"
    }
   },
   "outputs": [],
   "source": [
    "x = np.logspace(-2,2) # create array of x from\n",
    "# 10^-2 to 10^2 equally spaced in log scale\n",
    "plt.plot(x,func(x,1),label='$y=x$')   # plot y=x\n",
    "plt.plot(x,func(x,2),label='$y=x^2$') # plot y=x^2\n",
    "plt.plot(x,func(x,3),label='$y=x^3$') # plot y=x^3\n",
    "plt.legend()     # display plot legends\n",
    "plt.xscale(\"log\") # set log scale for x axis\n",
    "plt.yscale(\"log\") # set log scale for y axis\n",
    "plt.xlabel(\"$x$\") # display name of x axis\n",
    "plt.ylabel(\"$y$\") # display name of y axis\n",
    "plt.show()        # display plots"
   ]
  },
  {
   "cell_type": "markdown",
   "metadata": {
    "slideshow": {
     "slide_type": "slide"
    }
   },
   "source": [
    "# 2.4. Make histogram plot"
   ]
  },
  {
   "cell_type": "markdown",
   "metadata": {
    "slideshow": {
     "slide_type": "-"
    }
   },
   "source": [
    "## A code example"
   ]
  },
  {
   "cell_type": "code",
   "execution_count": null,
   "metadata": {
    "slideshow": {
     "slide_type": "-"
    }
   },
   "outputs": [],
   "source": [
    "N = 100000 # size of R\n",
    "np.random.seed(0) # initialization of the random number generator\n",
    "R = np.random.rand(N) # generate random sequence and store it as R\n",
    "# plot normalized histogram of R using 100 bins\n",
    "plt.hist(R,bins=100,density=True)\n",
    "plt.show() # show plot"
   ]
  },
  {
   "cell_type": "markdown",
   "metadata": {
    "slideshow": {
     "slide_type": "slide"
    }
   },
   "source": [
    "# 2.5. Trajectory plot, position(step)"
   ]
  },
  {
   "cell_type": "markdown",
   "metadata": {
    "slideshow": {
     "slide_type": "-"
    }
   },
   "source": [
    "## A code example"
   ]
  },
  {
   "cell_type": "code",
   "execution_count": null,
   "metadata": {
    "slideshow": {
     "slide_type": "-"
    }
   },
   "outputs": [],
   "source": [
    "NSTEP = 10000 # number of random steps\n",
    "plt.xlabel(\"number of steps\") # name of x axis\n",
    "plt.ylabel(\"position\") # name of y axis\n",
    "for nseed in range(10):# generate 10 random walks\n",
    "    # initialize random step generator with different nseeds\n",
    "    np.random.seed(nseed) \n",
    "    # generate random sequencies of NSTEP +1/-1 steps\n",
    "    step = np.random.choice([-1,1],NSTEP)\n",
    "    # calculate position of random walk at each step\n",
    "    position = np.cumsum(step)\n",
    "    plt.plot(position) # plot position(step) vs. step"
   ]
  },
  {
   "cell_type": "markdown",
   "metadata": {
    "slideshow": {
     "slide_type": "slide"
    }
   },
   "source": [
    "# References\n",
    "\n",
    "- `matplotlib` website, http://matplotlib.org/\n",
    "\n",
    "- `matplotlib` gallery page, http://matplotlib.org/gallery.html\n",
    "\n",
    "- Python website, https://www.python.org/"
   ]
  }
 ],
 "metadata": {
  "anaconda-cloud": {},
  "celltoolbar": "Slideshow",
  "kernelspec": {
   "display_name": "Python 3 (ipykernel)",
   "language": "python",
   "name": "python3"
  },
  "language_info": {
   "codemirror_mode": {
    "name": "ipython",
    "version": 3
   },
   "file_extension": ".py",
   "mimetype": "text/x-python",
   "name": "python",
   "nbconvert_exporter": "python",
   "pygments_lexer": "ipython3",
   "version": "3.9.13"
  }
 },
 "nbformat": 4,
 "nbformat_minor": 2
}
