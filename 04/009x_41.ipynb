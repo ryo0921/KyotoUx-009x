{
 "cells": [
  {
   "cell_type": "markdown",
   "metadata": {
    "slideshow": {
     "slide_type": "slide"
    }
   },
   "source": [
    "# Stochastic Processes: <br>Data Analysis and Computer Simulation\n",
    "<br>\n",
    "\n",
    "\n",
    "# Brownian motion 2: computer simulation\n",
    "<br>\n",
    "\n",
    "\n",
    "# 1. Random force in the Langevin equation\n",
    "<br>"
   ]
  },
  {
   "cell_type": "markdown",
   "metadata": {
    "slideshow": {
     "slide_type": "slide"
    }
   },
   "source": [
    "# 1.1. Langevin equation\n",
    "## Model for a Brownian particle in 3-D\n",
    "\n",
    "![](fig/Langevin.png)\n",
    "\n",
    "\\begin{equation}\n",
    "m\\frac{d\\mathbf{V}(t)}{dt}=\\color{blue}{-\\zeta\\mathbf{V}(t)}+\\color{red}{\\mathbf{F}(t)} \n",
    "\\tag{21}\n",
    "\\end{equation}"
   ]
  },
  {
   "cell_type": "markdown",
   "metadata": {
    "slideshow": {
     "slide_type": "slide"
    }
   },
   "source": [
    "# 1.2. Time evolution equations\n",
    "\n",
    "\\begin{equation}\n",
    "\\frac{d\\mathbf{R}(t)}{dt}=\\mathbf{V}(t)\\tag{F1}\n",
    "\\end{equation}\n",
    "\n",
    "\\begin{equation}\n",
    "m\\frac{d\\mathbf{V}(t)}{dt}=\\color{black}{-\\zeta\\mathbf{V}(t)}+\\color{black}{\\mathbf{F}(t)} \n",
    "\\tag{F2}\n",
    "\\end{equation}\n",
    "\n",
    "\n",
    "## Random force\n",
    "\n",
    "\\begin{equation}\n",
    "\\langle \\mathbf{F}(t)\\rangle=\\mathbf{0} \n",
    "\\tag{F3}\n",
    "\\end{equation}\n",
    "\n",
    "\\begin{equation}\n",
    "\\langle \\mathbf{F}(t)\\mathbf{F}(0)\\rangle = {2k_B T\\zeta}\\mathbf{I}\\delta(t)  \n",
    "\\tag{F4}\n",
    "\\end{equation}"
   ]
  },
  {
   "cell_type": "markdown",
   "metadata": {
    "slideshow": {
     "slide_type": "slide"
    }
   },
   "source": [
    "# 1.3. Cf. Euler method for a damped harmonic oscillator\n",
    "\n",
    "$$\n",
    "\\frac{d\\mathbf{R}(t)}{dt} =\\mathbf{V}(t)\\hspace{17mm} \\tag{B1}\n",
    "$$\n",
    "\n",
    "$$\n",
    "m\\frac{d\\mathbf{V}(t)}{dt}=-\\zeta\\mathbf{V}(t)-k\\mathbf{R}(t) \\tag{B2}\n",
    "$$\n",
    "\n",
    "$$\n",
    "\\mathbf{R}_{i+1}=\\mathbf{R}_i+\\int_{t_i}^{t_{i+1}} dt\\mathbf{V}(t)\\simeq\\mathbf{R}_i+\\mathbf{V}_i \\Delta t \\hspace{15mm}\\tag{B3}\n",
    "$$\n",
    "\n",
    "$$\n",
    "\\mathbf{V}_{i+1}=\\mathbf{V}_i-\\frac{\\zeta}{m}\\int_{t_i}^{t_{i+1}} dt\\mathbf{V}(t)-\\frac{k}{m}\\int_{t_i}^{t_{i+1}} dt\\mathbf{R}(t)\n",
    "$$\n",
    "$$\n",
    "\\simeq\\left(1-\\frac{\\zeta}{m}\\Delta t\\right)\\mathbf{V}_i - \\frac{k}{m} \\mathbf{R}_i \\Delta t \\hspace{12mm}\\tag{B4}\n",
    "$$"
   ]
  },
  {
   "cell_type": "markdown",
   "metadata": {
    "slideshow": {
     "slide_type": "slide"
    }
   },
   "source": [
    "# 1.4. Application of Euler method to Eqs.(F1) and (F2)\n",
    "\n",
    "\\begin{equation}\n",
    "\\mathbf{R}_{i+1}=\\mathbf{R}_i+\\int_{t_i}^{t_{i+1}} dt\\mathbf{V}(t)\\simeq\\mathbf{R}_i+\\mathbf{V}_i \\Delta t \n",
    "\\tag{F5}\n",
    "\\end{equation}\n",
    "\n",
    "$$\n",
    "\\mathbf{V}_{i+1}=\\mathbf{V}_i-\\frac{\\zeta}{m}\\int_{t_i}^{t_{i+1}} dt\\mathbf{V}(t)+\\frac{1}{m}\n",
    "\\color{red}{\n",
    "\\int_{t_i}^{t_{i+1}} dt\\mathbf{F}(t)}\n",
    "$$\n",
    "$$\n",
    "\\neq\n",
    "\\left(1-\\frac{\\zeta}{m}\\Delta t\\right)\\mathbf{V}_i + \\frac{1}{m} \\color{red}{\\mathbf{F}_i\\Delta t} \n",
    "\\tag{F6}\n",
    "$$\n",
    "\n",
    "$$\n",
    "\\because\n",
    "\\color{black}{\\int_{t_i}^{t_{i+1}} dt\\mathbf{F}(t)\\neq\\mathbf{F}_i\\Delta t} \n",
    "\\tag{F7}\n",
    "$$"
   ]
  },
  {
   "cell_type": "markdown",
   "metadata": {
    "slideshow": {
     "slide_type": "slide"
    }
   },
   "source": [
    "# 1.5. Cumulative impulse $\\Delta \\mathbf{W}_i$: the Wiener process\n",
    "\n",
    "$$\n",
    "\\int_{t_i}^{t_{i+1}} dt\\mathbf{F}(t)\n",
    "\\equiv\\Delta\\mathbf{W}_i\n",
    "\\tag{F8}\n",
    "$$\n",
    "\n",
    "- $F_\\alpha(t)\\rightarrow$ A series of random numbers drawn from some distribution with an average and variance equal to zero and $2k_B T\\zeta$, respectively.\n",
    "\n",
    "- $\\Delta W_{\\alpha,i}$ $\\rightarrow$ A series of random numbers drawn from a \"Gaussian distribution\", with an average and variance equal to zero and $2k_B T\\zeta\\Delta t$, respectively. This is a consequence of the central limit theorem (see the supplemental note for details)."
   ]
  },
  {
   "cell_type": "markdown",
   "metadata": {
    "slideshow": {
     "slide_type": "slide"
    }
   },
   "source": [
    "# 1.6. Modified velocity update equation (Eq.(F6)$\\rightarrow$(F9))\n",
    "\n",
    "$$\n",
    "\\mathbf{V}_{i+1}=\\mathbf{V}_i-\\frac{\\zeta}{m}\\int_{t_i}^{t_{i+1}} dt\\mathbf{V}(t)+\\frac{1}{m}\n",
    "\\color{red}{\n",
    "\\int_{t_i}^{t_{i+1}} dt\\mathbf{F}(t)}\n",
    "$$\n",
    "$$\n",
    "\\simeq\\left(1-\\frac{\\zeta}{m}\\Delta t\\right)\\mathbf{V}_i + \\frac{1}{m} \\color{red}{\\Delta \\mathbf{W}_i} \n",
    "\\tag{F9}\n",
    "$$\n",
    "\n",
    "\\begin{equation}\n",
    "\\langle \\Delta \\mathbf{W}_i\\rangle=\\mathbf{0} \n",
    "\\tag{F10}\n",
    "\\end{equation}\n",
    "\n",
    "\\begin{equation}\n",
    "\\langle \\Delta \\mathbf{W}_i\\Delta \\mathbf{W}_j\\rangle = {2k_B T\\zeta}\\Delta t\\mathbf{I}\\delta_{ij}  \n",
    "\\tag{F11}\n",
    "\\end{equation}\n",
    "\n",
    "\n",
    "\n"
   ]
  },
  {
   "cell_type": "code",
   "execution_count": null,
   "metadata": {},
   "outputs": [],
   "source": []
  }
 ],
 "metadata": {
  "anaconda-cloud": {},
  "celltoolbar": "Slideshow",
  "kernelspec": {
   "display_name": "Python 3 (ipykernel)",
   "language": "python",
   "name": "python3"
  },
  "language_info": {
   "codemirror_mode": {
    "name": "ipython",
    "version": 3
   },
   "file_extension": ".py",
   "mimetype": "text/x-python",
   "name": "python",
   "nbconvert_exporter": "python",
   "pygments_lexer": "ipython3",
   "version": "3.9.13"
  }
 },
 "nbformat": 4,
 "nbformat_minor": 1
}
